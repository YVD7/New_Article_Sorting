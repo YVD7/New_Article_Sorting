{
 "cells": [
  {
   "cell_type": "markdown",
   "id": "31599c09",
   "metadata": {},
   "source": [
    "#  News Article Sorting"
   ]
  },
  {
   "cell_type": "markdown",
   "id": "6f62fd15",
   "metadata": {},
   "source": [
    "### importing the data and analysing the data"
   ]
  },
  {
   "cell_type": "code",
   "execution_count": 1,
   "id": "3bfa358e",
   "metadata": {},
   "outputs": [],
   "source": [
    "# importing libraries\n",
    "\n",
    "import numpy as np\n",
    "import pandas as pd\n",
    "\n",
    "# storing the data into dataframe\n",
    "\n",
    "train_df = pd.read_csv(\"../data/BBC News Train.csv\")\n",
    "test_df = pd.read_csv(\"../data/BBC News Test.csv\")"
   ]
  },
  {
   "cell_type": "code",
   "execution_count": 2,
   "id": "7eb8b44f",
   "metadata": {},
   "outputs": [
    {
     "name": "stdout",
     "output_type": "stream",
     "text": [
      "   ArticleId                                               Text  Category\n",
      "0       1833  worldcom ex-boss launches defence lawyers defe...  business\n",
      "1        154  german business confidence slides german busin...  business\n",
      "2       1101  bbc poll indicates economic gloom citizens in ...  business\n",
      "3       1976  lifestyle  governs mobile choice  faster  bett...      tech\n",
      "4        917  enron bosses in $168m payout eighteen former e...  business\n"
     ]
    }
   ],
   "source": [
    "# print train data head\n",
    "print(train_df.head())"
   ]
  },
  {
   "cell_type": "code",
   "execution_count": 3,
   "id": "917af69a",
   "metadata": {},
   "outputs": [
    {
     "name": "stdout",
     "output_type": "stream",
     "text": [
      "   ArticleId                                               Text\n",
      "0       1018  qpr keeper day heads for preston queens park r...\n",
      "1       1319  software watching while you work software that...\n",
      "2       1138  d arcy injury adds to ireland woe gordon d arc...\n",
      "3        459  india s reliance family feud heats up the ongo...\n",
      "4       1020  boro suffer morrison injury blow middlesbrough...\n"
     ]
    }
   ],
   "source": [
    "# print test data head\n",
    "print(test_df.head())"
   ]
  },
  {
   "cell_type": "markdown",
   "id": "62c52f4a",
   "metadata": {},
   "source": [
    "### `data analysis ( train data )`"
   ]
  },
  {
   "cell_type": "code",
   "execution_count": null,
   "id": "7b48dad5",
   "metadata": {},
   "outputs": [],
   "source": []
  }
 ],
 "metadata": {
  "kernelspec": {
   "display_name": "Python 3 (ipykernel)",
   "language": "python",
   "name": "python3"
  },
  "language_info": {
   "codemirror_mode": {
    "name": "ipython",
    "version": 3
   },
   "file_extension": ".py",
   "mimetype": "text/x-python",
   "name": "python",
   "nbconvert_exporter": "python",
   "pygments_lexer": "ipython3",
   "version": "3.10.12"
  }
 },
 "nbformat": 4,
 "nbformat_minor": 5
}
